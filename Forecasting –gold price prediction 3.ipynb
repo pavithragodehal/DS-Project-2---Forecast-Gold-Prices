{
 "cells": [
  {
   "cell_type": "code",
   "execution_count": null,
   "metadata": {
    "id": "44f3oAU4O26c"
   },
   "outputs": [],
   "source": [
    "# pip install pmdarima"
   ]
  },
  {
   "cell_type": "code",
   "execution_count": null,
   "metadata": {
    "id": "da54r7g8JJcF"
   },
   "outputs": [],
   "source": [
    "import numpy as np\n",
    "import pandas as pd\n",
    "import datetime as dt\n",
    "from datetime import timedelta\n",
    "\n",
    "import statsmodels.api as sm\n",
    "from statsmodels.tsa.api import Holt,SimpleExpSmoothing,ExponentialSmoothing\n",
    "from pmdarima import auto_arima\n",
    "from statsmodels.tsa.arima.model import ARIMA\n",
    "\n",
    "import matplotlib.pyplot as plt\n",
    "import seaborn as sns\n",
    "import plotly.express as px\n",
    "import plotly.graph_objects as go\n",
    "from plotly.subplots import make_subplots\n",
    "\n",
    "from sklearn.metrics import mean_squared_error,r2_score, mean_absolute_error,mean_squared_log_error\n",
    "\n",
    "import warnings\n",
    "warnings.filterwarnings('ignore')"
   ]
  },
  {
   "cell_type": "code",
   "execution_count": null,
   "metadata": {
    "colab": {
     "base_uri": "https://localhost:8080/",
     "height": 455
    },
    "id": "mTenIm_MJN54",
    "outputId": "b83200fe-a630-4255-caa7-be7f423ec5e8"
   },
   "outputs": [
    {
     "data": {
      "text/html": [
       "<div>\n",
       "<style scoped>\n",
       "    .dataframe tbody tr th:only-of-type {\n",
       "        vertical-align: middle;\n",
       "    }\n",
       "\n",
       "    .dataframe tbody tr th {\n",
       "        vertical-align: top;\n",
       "    }\n",
       "\n",
       "    .dataframe thead th {\n",
       "        text-align: right;\n",
       "    }\n",
       "</style>\n",
       "<table border=\"1\" class=\"dataframe\">\n",
       "  <thead>\n",
       "    <tr style=\"text-align: right;\">\n",
       "      <th></th>\n",
       "      <th>GOLDAMGBD228NLBM</th>\n",
       "    </tr>\n",
       "    <tr>\n",
       "      <th>observation_date</th>\n",
       "      <th></th>\n",
       "    </tr>\n",
       "  </thead>\n",
       "  <tbody>\n",
       "    <tr>\n",
       "      <th>1968-04-01</th>\n",
       "      <td>38.00</td>\n",
       "    </tr>\n",
       "    <tr>\n",
       "      <th>1968-04-02</th>\n",
       "      <td>37.60</td>\n",
       "    </tr>\n",
       "    <tr>\n",
       "      <th>1968-04-03</th>\n",
       "      <td>37.70</td>\n",
       "    </tr>\n",
       "    <tr>\n",
       "      <th>1968-04-04</th>\n",
       "      <td>36.70</td>\n",
       "    </tr>\n",
       "    <tr>\n",
       "      <th>1968-04-05</th>\n",
       "      <td>37.20</td>\n",
       "    </tr>\n",
       "    <tr>\n",
       "      <th>...</th>\n",
       "      <td>...</td>\n",
       "    </tr>\n",
       "    <tr>\n",
       "      <th>2021-07-15</th>\n",
       "      <td>1832.00</td>\n",
       "    </tr>\n",
       "    <tr>\n",
       "      <th>2021-07-16</th>\n",
       "      <td>1822.00</td>\n",
       "    </tr>\n",
       "    <tr>\n",
       "      <th>2021-07-19</th>\n",
       "      <td>1803.25</td>\n",
       "    </tr>\n",
       "    <tr>\n",
       "      <th>2021-07-20</th>\n",
       "      <td>1815.30</td>\n",
       "    </tr>\n",
       "    <tr>\n",
       "      <th>2021-07-21</th>\n",
       "      <td>1805.90</td>\n",
       "    </tr>\n",
       "  </tbody>\n",
       "</table>\n",
       "<p>13908 rows × 1 columns</p>\n",
       "</div>"
      ],
      "text/plain": [
       "                  GOLDAMGBD228NLBM\n",
       "observation_date                  \n",
       "1968-04-01                   38.00\n",
       "1968-04-02                   37.60\n",
       "1968-04-03                   37.70\n",
       "1968-04-04                   36.70\n",
       "1968-04-05                   37.20\n",
       "...                            ...\n",
       "2021-07-15                 1832.00\n",
       "2021-07-16                 1822.00\n",
       "2021-07-19                 1803.25\n",
       "2021-07-20                 1815.30\n",
       "2021-07-21                 1805.90\n",
       "\n",
       "[13908 rows x 1 columns]"
      ]
     },
     "execution_count": 4,
     "metadata": {},
     "output_type": "execute_result"
    }
   ],
   "source": [
    "data = pd.read_excel(\"Dataset.xlsx\", skiprows=list(range(0,10)), index_col=0, parse_dates=True)\n",
    "data"
   ]
  },
  {
   "cell_type": "code",
   "execution_count": null,
   "metadata": {
    "colab": {
     "base_uri": "https://localhost:8080/",
     "height": 423
    },
    "id": "OGW_Y_UHJaZr",
    "outputId": "1af68a44-a3dd-4c62-a65f-a7af93ef1a88"
   },
   "outputs": [
    {
     "data": {
      "text/html": [
       "<div>\n",
       "<style scoped>\n",
       "    .dataframe tbody tr th:only-of-type {\n",
       "        vertical-align: middle;\n",
       "    }\n",
       "\n",
       "    .dataframe tbody tr th {\n",
       "        vertical-align: top;\n",
       "    }\n",
       "\n",
       "    .dataframe thead th {\n",
       "        text-align: right;\n",
       "    }\n",
       "</style>\n",
       "<table border=\"1\" class=\"dataframe\">\n",
       "  <thead>\n",
       "    <tr style=\"text-align: right;\">\n",
       "      <th></th>\n",
       "      <th>GOLDAMGBD228NLBM</th>\n",
       "    </tr>\n",
       "  </thead>\n",
       "  <tbody>\n",
       "    <tr>\n",
       "      <th>1968-04-06</th>\n",
       "      <td>NaN</td>\n",
       "    </tr>\n",
       "    <tr>\n",
       "      <th>1968-04-07</th>\n",
       "      <td>NaN</td>\n",
       "    </tr>\n",
       "    <tr>\n",
       "      <th>1968-04-13</th>\n",
       "      <td>NaN</td>\n",
       "    </tr>\n",
       "    <tr>\n",
       "      <th>1968-04-14</th>\n",
       "      <td>NaN</td>\n",
       "    </tr>\n",
       "    <tr>\n",
       "      <th>1968-04-20</th>\n",
       "      <td>NaN</td>\n",
       "    </tr>\n",
       "    <tr>\n",
       "      <th>...</th>\n",
       "      <td>...</td>\n",
       "    </tr>\n",
       "    <tr>\n",
       "      <th>2021-07-04</th>\n",
       "      <td>NaN</td>\n",
       "    </tr>\n",
       "    <tr>\n",
       "      <th>2021-07-10</th>\n",
       "      <td>NaN</td>\n",
       "    </tr>\n",
       "    <tr>\n",
       "      <th>2021-07-11</th>\n",
       "      <td>NaN</td>\n",
       "    </tr>\n",
       "    <tr>\n",
       "      <th>2021-07-17</th>\n",
       "      <td>NaN</td>\n",
       "    </tr>\n",
       "    <tr>\n",
       "      <th>2021-07-18</th>\n",
       "      <td>NaN</td>\n",
       "    </tr>\n",
       "  </tbody>\n",
       "</table>\n",
       "<p>5562 rows × 1 columns</p>\n",
       "</div>"
      ],
      "text/plain": [
       "            GOLDAMGBD228NLBM\n",
       "1968-04-06               NaN\n",
       "1968-04-07               NaN\n",
       "1968-04-13               NaN\n",
       "1968-04-14               NaN\n",
       "1968-04-20               NaN\n",
       "...                      ...\n",
       "2021-07-04               NaN\n",
       "2021-07-10               NaN\n",
       "2021-07-11               NaN\n",
       "2021-07-17               NaN\n",
       "2021-07-18               NaN\n",
       "\n",
       "[5562 rows x 1 columns]"
      ]
     },
     "execution_count": 5,
     "metadata": {},
     "output_type": "execute_result"
    }
   ],
   "source": [
    "start_date = data.index[0]\n",
    "end_date = data.index[-1]\n",
    "dates = pd.date_range(start_date, end_date)\n",
    "missing = []\n",
    "nan_data = []\n",
    "\n",
    "for date in dates:\n",
    "    if date not in data.index:\n",
    "        missing.append(date)\n",
    "        nan_data.append(np.nan)\n",
    "        \n",
    "df = pd.DataFrame({\"GOLDAMGBD228NLBM\": nan_data}, index= missing)\n",
    "\n",
    "df"
   ]
  },
  {
   "cell_type": "code",
   "execution_count": null,
   "metadata": {
    "colab": {
     "base_uri": "https://localhost:8080/",
     "height": 423
    },
    "id": "p605sWOEJb8R",
    "outputId": "20744b02-15f8-4068-ac8f-f0a05734bdf0"
   },
   "outputs": [
    {
     "data": {
      "text/html": [
       "<div>\n",
       "<style scoped>\n",
       "    .dataframe tbody tr th:only-of-type {\n",
       "        vertical-align: middle;\n",
       "    }\n",
       "\n",
       "    .dataframe tbody tr th {\n",
       "        vertical-align: top;\n",
       "    }\n",
       "\n",
       "    .dataframe thead th {\n",
       "        text-align: right;\n",
       "    }\n",
       "</style>\n",
       "<table border=\"1\" class=\"dataframe\">\n",
       "  <thead>\n",
       "    <tr style=\"text-align: right;\">\n",
       "      <th></th>\n",
       "      <th>GOLDAMGBD228NLBM</th>\n",
       "    </tr>\n",
       "  </thead>\n",
       "  <tbody>\n",
       "    <tr>\n",
       "      <th>1968-04-01</th>\n",
       "      <td>38.00</td>\n",
       "    </tr>\n",
       "    <tr>\n",
       "      <th>1968-04-02</th>\n",
       "      <td>37.60</td>\n",
       "    </tr>\n",
       "    <tr>\n",
       "      <th>1968-04-03</th>\n",
       "      <td>37.70</td>\n",
       "    </tr>\n",
       "    <tr>\n",
       "      <th>1968-04-04</th>\n",
       "      <td>36.70</td>\n",
       "    </tr>\n",
       "    <tr>\n",
       "      <th>1968-04-05</th>\n",
       "      <td>37.20</td>\n",
       "    </tr>\n",
       "    <tr>\n",
       "      <th>...</th>\n",
       "      <td>...</td>\n",
       "    </tr>\n",
       "    <tr>\n",
       "      <th>2021-07-17</th>\n",
       "      <td>NaN</td>\n",
       "    </tr>\n",
       "    <tr>\n",
       "      <th>2021-07-18</th>\n",
       "      <td>NaN</td>\n",
       "    </tr>\n",
       "    <tr>\n",
       "      <th>2021-07-19</th>\n",
       "      <td>1803.25</td>\n",
       "    </tr>\n",
       "    <tr>\n",
       "      <th>2021-07-20</th>\n",
       "      <td>1815.30</td>\n",
       "    </tr>\n",
       "    <tr>\n",
       "      <th>2021-07-21</th>\n",
       "      <td>1805.90</td>\n",
       "    </tr>\n",
       "  </tbody>\n",
       "</table>\n",
       "<p>19470 rows × 1 columns</p>\n",
       "</div>"
      ],
      "text/plain": [
       "            GOLDAMGBD228NLBM\n",
       "1968-04-01             38.00\n",
       "1968-04-02             37.60\n",
       "1968-04-03             37.70\n",
       "1968-04-04             36.70\n",
       "1968-04-05             37.20\n",
       "...                      ...\n",
       "2021-07-17               NaN\n",
       "2021-07-18               NaN\n",
       "2021-07-19           1803.25\n",
       "2021-07-20           1815.30\n",
       "2021-07-21           1805.90\n",
       "\n",
       "[19470 rows x 1 columns]"
      ]
     },
     "execution_count": 6,
     "metadata": {},
     "output_type": "execute_result"
    }
   ],
   "source": [
    "total_df = pd.concat([data, df])\n",
    "total_df.sort_index(inplace= True)\n",
    "total_df"
   ]
  },
  {
   "cell_type": "code",
   "execution_count": null,
   "metadata": {
    "colab": {
     "base_uri": "https://localhost:8080/"
    },
    "id": "T9DVcgXHJdRD",
    "outputId": "d10665e9-f6b0-4d08-991d-104b787601ce"
   },
   "outputs": [
    {
     "data": {
      "text/plain": [
       "GOLDAMGBD228NLBM    5993\n",
       "dtype: int64"
      ]
     },
     "execution_count": 7,
     "metadata": {},
     "output_type": "execute_result"
    }
   ],
   "source": [
    "total_df.isnull().sum()"
   ]
  },
  {
   "cell_type": "code",
   "execution_count": null,
   "metadata": {
    "colab": {
     "base_uri": "https://localhost:8080/"
    },
    "id": "pXbfgHXnJeys",
    "outputId": "1a6b01c3-d3a1-4e4f-84cc-54fae3c2d713"
   },
   "outputs": [
    {
     "data": {
      "text/plain": [
       "GOLDAMGBD228NLBM    0\n",
       "dtype: int64"
      ]
     },
     "execution_count": 8,
     "metadata": {},
     "output_type": "execute_result"
    }
   ],
   "source": [
    "df = total_df.interpolate(method ='linear', limit_direction ='forward', limit = 100)\n",
    "df.isnull().sum()"
   ]
  },
  {
   "cell_type": "code",
   "execution_count": null,
   "metadata": {
    "colab": {
     "base_uri": "https://localhost:8080/",
     "height": 423
    },
    "id": "puokHE8oJgXq",
    "outputId": "79f18a75-e79f-46c6-9625-ffe3f7845102"
   },
   "outputs": [
    {
     "data": {
      "text/html": [
       "<div>\n",
       "<style scoped>\n",
       "    .dataframe tbody tr th:only-of-type {\n",
       "        vertical-align: middle;\n",
       "    }\n",
       "\n",
       "    .dataframe tbody tr th {\n",
       "        vertical-align: top;\n",
       "    }\n",
       "\n",
       "    .dataframe thead th {\n",
       "        text-align: right;\n",
       "    }\n",
       "</style>\n",
       "<table border=\"1\" class=\"dataframe\">\n",
       "  <thead>\n",
       "    <tr style=\"text-align: right;\">\n",
       "      <th></th>\n",
       "      <th>gold</th>\n",
       "    </tr>\n",
       "  </thead>\n",
       "  <tbody>\n",
       "    <tr>\n",
       "      <th>1968-04-01</th>\n",
       "      <td>38.00</td>\n",
       "    </tr>\n",
       "    <tr>\n",
       "      <th>1968-04-02</th>\n",
       "      <td>37.60</td>\n",
       "    </tr>\n",
       "    <tr>\n",
       "      <th>1968-04-03</th>\n",
       "      <td>37.70</td>\n",
       "    </tr>\n",
       "    <tr>\n",
       "      <th>1968-04-04</th>\n",
       "      <td>36.70</td>\n",
       "    </tr>\n",
       "    <tr>\n",
       "      <th>1968-04-05</th>\n",
       "      <td>37.20</td>\n",
       "    </tr>\n",
       "    <tr>\n",
       "      <th>...</th>\n",
       "      <td>...</td>\n",
       "    </tr>\n",
       "    <tr>\n",
       "      <th>2021-07-17</th>\n",
       "      <td>1815.75</td>\n",
       "    </tr>\n",
       "    <tr>\n",
       "      <th>2021-07-18</th>\n",
       "      <td>1809.50</td>\n",
       "    </tr>\n",
       "    <tr>\n",
       "      <th>2021-07-19</th>\n",
       "      <td>1803.25</td>\n",
       "    </tr>\n",
       "    <tr>\n",
       "      <th>2021-07-20</th>\n",
       "      <td>1815.30</td>\n",
       "    </tr>\n",
       "    <tr>\n",
       "      <th>2021-07-21</th>\n",
       "      <td>1805.90</td>\n",
       "    </tr>\n",
       "  </tbody>\n",
       "</table>\n",
       "<p>19470 rows × 1 columns</p>\n",
       "</div>"
      ],
      "text/plain": [
       "               gold\n",
       "1968-04-01    38.00\n",
       "1968-04-02    37.60\n",
       "1968-04-03    37.70\n",
       "1968-04-04    36.70\n",
       "1968-04-05    37.20\n",
       "...             ...\n",
       "2021-07-17  1815.75\n",
       "2021-07-18  1809.50\n",
       "2021-07-19  1803.25\n",
       "2021-07-20  1815.30\n",
       "2021-07-21  1805.90\n",
       "\n",
       "[19470 rows x 1 columns]"
      ]
     },
     "execution_count": 9,
     "metadata": {},
     "output_type": "execute_result"
    }
   ],
   "source": [
    "df.rename(columns={\"GOLDAMGBD228NLBM\": \"gold\"}, inplace=True)\n",
    "df"
   ]
  },
  {
   "cell_type": "code",
   "execution_count": null,
   "metadata": {
    "id": "vlCDjo-qJhw6"
   },
   "outputs": [],
   "source": [
    "df.index.names = ['Date']"
   ]
  },
  {
   "cell_type": "code",
   "execution_count": null,
   "metadata": {
    "colab": {
     "base_uri": "https://localhost:8080/"
    },
    "id": "0Avw-rn_Jizi",
    "outputId": "a0a93ec9-11ea-4924-bae6-a6669a9abb24"
   },
   "outputs": [
    {
     "name": "stdout",
     "output_type": "stream",
     "text": [
      "Dataset: 15576, Validation: 3894\n"
     ]
    }
   ],
   "source": [
    "train, validation = df.iloc[:int(df.shape[0]*0.80)],df.iloc[int(df.shape[0]*0.80):]\n",
    "print(f\"Dataset: {len(dataset)}, Validation: {len(validation)}\")"
   ]
  },
  {
   "cell_type": "code",
   "execution_count": null,
   "metadata": {
    "colab": {
     "base_uri": "https://localhost:8080/"
    },
    "id": "ioknHOglMpUv",
    "outputId": "07dda364-511c-4be5-debb-eecf29b3b7c9"
   },
   "outputs": [
    {
     "name": "stdout",
     "output_type": "stream",
     "text": [
      " ARIMA(2,2,0)(1,0,0)[7]             : AIC=97568.452, Time=1.95 sec\n",
      " ARIMA(2,2,0)(0,0,2)[7]             : AIC=97568.340, Time=3.70 sec\n",
      " ARIMA(1,2,2)(1,0,1)[7]             : AIC=inf, Time=13.88 sec\n",
      " ARIMA(2,2,0)(0,0,1)[7]             : AIC=97568.722, Time=1.70 sec\n",
      " ARIMA(2,2,1)(0,0,2)[7]             : AIC=inf, Time=19.44 sec\n",
      " ARIMA(0,2,1)(0,0,2)[7]             : AIC=inf, Time=9.88 sec\n",
      " ARIMA(3,2,0)(2,0,0)[7]             : AIC=96795.465, Time=5.53 sec\n",
      " ARIMA(2,2,0)(1,0,1)[7]             : AIC=97565.326, Time=5.10 sec\n",
      " ARIMA(1,2,2)(0,0,0)[7]             : AIC=inf, Time=2.58 sec\n",
      " ARIMA(1,2,1)(2,0,0)[7]             : AIC=inf, Time=13.38 sec\n",
      "\n",
      "Best model:  ARIMA(3,2,0)(2,0,0)[7]          \n",
      "Total fit time: 77.256 seconds\n"
     ]
    }
   ],
   "source": [
    "model_arima= auto_arima(train[\"gold\"],trace=True,\n",
    "              error_action='ignore', start_p=1,start_q=1,max_p=3,max_q=3,\n",
    "              start_P=1, D=None, start_Q=1, max_P=2, max_D=1, max_Q=2,\n",
    "              max_order=5, seasonal=True,\n",
    "              m=7,\n",
    "              stationary=False, information_criterion='aic',\n",
    "              suppress_warnings=True,stepwise=False,\n",
    "              random=True)\n"
   ]
  },
  {
   "cell_type": "code",
   "execution_count": null,
   "metadata": {
    "colab": {
     "base_uri": "https://localhost:8080/"
    },
    "id": "hUQlYj56ReWA",
    "outputId": "0cbe39b1-fd7a-4e80-dfb5-9539727c008b"
   },
   "outputs": [
    {
     "data": {
      "text/plain": [
       "ARIMA(maxiter=50, method='lbfgs', order=(3, 2, 0), out_of_sample_size=0,\n",
       "      scoring='mse', scoring_args={}, seasonal_order=(2, 0, 0, 7),\n",
       "      start_params=None, suppress_warnings=True, trend=None,\n",
       "      with_intercept=False)"
      ]
     },
     "execution_count": 24,
     "metadata": {},
     "output_type": "execute_result"
    }
   ],
   "source": [
    "model_arima.fit(train[\"gold\"])"
   ]
  },
  {
   "cell_type": "code",
   "execution_count": null,
   "metadata": {
    "colab": {
     "base_uri": "https://localhost:8080/"
    },
    "id": "IQcsgaqUdWE9",
    "outputId": "39dcd75b-adc6-45bf-e495-1d43a5d325f0"
   },
   "outputs": [
    {
     "data": {
      "text/plain": [
       "array([1357.68046404, 1358.14211413, 1357.32807428, ...,  325.41935418,\n",
       "        325.15420877,  324.88906336])"
      ]
     },
     "execution_count": 25,
     "metadata": {},
     "output_type": "execute_result"
    }
   ],
   "source": [
    "prediction_arima = model_arima.predict(len(validation))\n",
    "prediction_arima"
   ]
  },
  {
   "cell_type": "code",
   "execution_count": null,
   "metadata": {
    "id": "BnBalh1egG0U"
   },
   "outputs": [],
   "source": [
    "def bold_text(txt):\n",
    "  return f\"\\033[1m{txt}\\033[0m\""
   ]
  },
  {
   "cell_type": "code",
   "execution_count": null,
   "metadata": {
    "id": "8MdkrssCjvvx"
   },
   "outputs": [],
   "source": [
    "def eval_model(validation_data, model):\n",
    "  prediction_arima = model.predict(len(validation_data))\n",
    "  \n",
    "  y_pred = validation_data.copy()\n",
    "\n",
    "  y_pred[\"ARIMA Model Prediction\"] = prediction_arima\n",
    "  mse_arima = mean_squared_error(y_pred[\"gold\"],y_pred[\"ARIMA Model Prediction\"])\n",
    "  rmse_arima = np.sqrt(mean_squared_error(y_pred[\"gold\"],y_pred[\"ARIMA Model Prediction\"]))\n",
    "\n",
    "  print(f'''{bold_text(\"Model\")}\n",
    "Order : {model_arima.order}\n",
    "Seasonal order: {model.seasonal_order}\n",
    "AIC: {model.aic()}\n",
    "MSE: {mse_arima}\n",
    "RMSE: {rmse_arima}\n",
    "''')"
   ]
  },
  {
   "cell_type": "code",
   "execution_count": null,
   "metadata": {
    "colab": {
     "base_uri": "https://localhost:8080/"
    },
    "id": "1_VxznV1dp0j",
    "outputId": "94e7e84a-c14b-4447-a894-73bfb572e243"
   },
   "outputs": [
    {
     "name": "stdout",
     "output_type": "stream",
     "text": [
      "\u001b[1mModel\u001b[0m\n",
      "Order : (3, 2, 0)\n",
      "Seasonal order: (2, 0, 0, 7)\n",
      "AIC: 96795.46526486657\n",
      "MSE: 493318.9733269995\n",
      "RMSE: 702.3666943463361\n",
      "\n"
     ]
    }
   ],
   "source": [
    "eval_model(validation, model_arima)"
   ]
  },
  {
   "cell_type": "code",
   "execution_count": null,
   "metadata": {
    "id": "DOSESPFQiMfS"
   },
   "outputs": [],
   "source": [
    "# Same model using statsmodels.tsa.arima.model.ARIMA object\n",
    "\n",
    "final_model = ARIMA(train,order=model_arima.order,seasonal_order=model_arima.seasonal_order).fit()"
   ]
  },
  {
   "cell_type": "code",
   "execution_count": null,
   "metadata": {
    "id": "af68oaQYeWOp"
   },
   "outputs": [],
   "source": [
    "forecast = final_model.predict(len(df),len(df)+365,typ='levels').rename('ARIMA forecast')"
   ]
  },
  {
   "cell_type": "code",
   "execution_count": null,
   "metadata": {
    "colab": {
     "base_uri": "https://localhost:8080/",
     "height": 497
    },
    "id": "WSoLRmHEh_Z9",
    "outputId": "61d62f88-f9c5-48cb-a5c0-b4acab33b96f"
   },
   "outputs": [
    {
     "data": {
      "image/png": "[encoded data removed]",
      "text/plain": [
       "<Figure size 864x576 with 1 Axes>"
      ]
     },
     "metadata": {
      "needs_background": "light"
     },
     "output_type": "display_data"
    }
   ],
   "source": [
    "df['gold'].plot(figsize=(12,8),legend=True)\n",
    "forecast.plot(legend=True);"
   ]
  },
  {
   "cell_type": "markdown",
   "metadata": {
    "id": "ouEj9MJenCAh"
   },
   "source": [
    "###### Observation: The ARIMA model is not giving great predictions on this dataset as the RMSE is 702 which is high in this case"
   ]
  },
  {
   "cell_type": "code",
   "execution_count": null,
   "metadata": {
    "id": "Z4TDW4dqnD4W"
   },
   "outputs": [],
   "source": []
  }
 ],
 "metadata": {
  "colab": {
   "collapsed_sections": [],
   "name": "gold_p66-group6.ipynb",
   "provenance": []
  },
  "kernelspec": {
   "display_name": "Python 3",
   "language": "python",
   "name": "python3"
  },
  "language_info": {
   "codemirror_mode": {
    "name": "ipython",
    "version": 3
   },
   "file_extension": ".py",
   "mimetype": "text/x-python",
   "name": "python",
   "nbconvert_exporter": "python",
   "pygments_lexer": "ipython3",
   "version": "3.8.5"
  }
 },
 "nbformat": 4,
 "nbformat_minor": 1
}
